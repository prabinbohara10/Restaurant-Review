{
 "cells": [
  {
   "cell_type": "code",
   "execution_count": 37,
   "id": "669caf37",
   "metadata": {},
   "outputs": [],
   "source": [
    "import requests\n",
    "from bs4 import BeautifulSoup\n",
    "import random\n",
    "import time"
   ]
  },
  {
   "cell_type": "code",
   "execution_count": 34,
   "id": "9348eaf7",
   "metadata": {},
   "outputs": [],
   "source": [
    "HEADERS = [{\n",
    "        \"User-Agent\": \"Mozilla/5.0 (Windows NT 10.0; Win64; x64; rv:98.0) Gecko/20100101 Firefox/98.0\",\n",
    "        \"Accept\": \"text/html,application/xhtml+xml,application/xml;q=0.9,image/avif,image/webp,*/*;q=0.8\",\n",
    "        \"Accept-Language\": \"en-US,en;q=0.5\",\n",
    "        \"Accept-Encoding\": \"gzip, deflate\",\n",
    "        \"Connection\": \"keep-alive\",\n",
    "        \"Upgrade-Insecure-Requests\": \"1\",\n",
    "        \"Sec-Fetch-Dest\": \"document\",\n",
    "        \"Sec-Fetch-Mode\": \"navigate\",\n",
    "        \"Sec-Fetch-Site\": \"none\",\n",
    "        \"Sec-Fetch-User\": \"?1\",\n",
    "        \"Cache-Control\": \"max-age=0\",\n",
    "        },\n",
    "    \n",
    "        {\n",
    "        \"Sec-Ch-Ua\": '\"Chromium\";v=\"118\", \"Google Chrome\";v=\"118\", \"Not=A?Brand\";v=\"99\"',\n",
    "        \"Sec-Ch-Ua-Mobile\": \"?1\",\n",
    "        \"Sec-Ch-Ua-Platform\": '\"Android\"',\n",
    "        \"User-Agent\": \"Mozilla/5.0 (Linux; Android 6.0; Nexus 5 Build/MRA58N) AppleWebKit/537.36 (KHTML, like Gecko) Chrome/118.0.0.0 Mobile Safari/537.36\"\n",
    "        }\n",
    "]\n",
    "\n",
    "\n",
    "delay_seconds = 2\n",
    "start_index = 0 ### to start from 0th index\n",
    "pages_per_city = 1\n",
    "review_per_restaurant_number = 20  ### better if given in multiple of 10\n",
    "review_per_restaurant_percent = 0.5\n",
    "review_per_restaurant_see_number = True\n",
    "base_url = \"https://www.yelp.com/search?find_desc=Restaurants&find_loc=New+York&start=\""
   ]
  },
  {
   "cell_type": "code",
   "execution_count": 29,
   "id": "3d16bb91",
   "metadata": {},
   "outputs": [],
   "source": [
    "def get_random_header():\n",
    "    ran_index = random.randint(0, len(HEADERS) - 1)\n",
    "    return HEADERS[ran_index]"
   ]
  },
  {
   "cell_type": "code",
   "execution_count": 35,
   "id": "d02b3cbd",
   "metadata": {},
   "outputs": [],
   "source": [
    "### returns True if we need to stop scraping else return False:\n",
    "def check_done(total_review_pages, view_pages):\n",
    "    if( (view_pages +1) > total_review_pages):\n",
    "        return True\n",
    "    \n",
    "    if(review_per_restaurant_see_number):\n",
    "        if( ((view_pages+1) * 10) > review_per_restaurant_number):\n",
    "            return True\n",
    "        else:\n",
    "            return False\n",
    "    \n",
    "    else:\n",
    "        if( (view_pages+1)> review_per_restaurant_percent* total_review_pages):\n",
    "            return True\n",
    "        else:\n",
    "            return False\n",
    "        \n",
    "        "
   ]
  },
  {
   "cell_type": "code",
   "execution_count": 63,
   "id": "81dc3532",
   "metadata": {},
   "outputs": [],
   "source": [
    "def start_scraping():\n",
    "    main_data_list = []\n",
    "    for page in range(pages_per_city):\n",
    "        current_url = base_url + str(page)\n",
    "        headers = get_random_header()\n",
    "        res = requests.get(current_url)\n",
    "        \n",
    "        ###parsing and analysisis:\n",
    "        htmlData = res.text\n",
    "        parsedData = BeautifulSoup(htmlData, 'html.parser')\n",
    "        restaurant_links = parsedData.css.select(\"main > div >ul > li > div > div > div > div:nth-of-type(2) > div:nth-of-type(1) > div:nth-of-type(1) > div:nth-of-type(1)> div a\")\n",
    "        restaurant_names = [each_link.text for each_link in restaurant_links]\n",
    "        print(\"Restaurant Names = \" ,restaurant_names)\n",
    "        \n",
    "        ####for every restaurant:\n",
    "        for each_restaurant in restaurant_links:\n",
    "            print(\"##############################################\")\n",
    "            print(\"Restaurant Name = \", each_restaurant.text)\n",
    "            base_url_restaurant = \"https://www.yelp.com\"+ each_restaurant[\"href\"] + \"&start=\"\n",
    "            \n",
    "            ### for every pages of reviews:\n",
    "            view_pages = 0\n",
    "            total_review_pages = 1 #just for initial case:\n",
    "            while(not check_done(total_review_pages, view_pages)):\n",
    "                temp_row_list = []\n",
    "                \n",
    "                current_url_restaurant = base_url_restaurant + \"1\"\n",
    "                res_each_page = requests.get(current_url_restaurant)\n",
    "                htmlData2 = res_each_page.text\n",
    "                parsedData2 =BeautifulSoup(htmlData2, 'html.parser')\n",
    "\n",
    "                ### finding the total number of review pages for each restaurant:::\n",
    "                if(view_pages == 0):\n",
    "                    total_review_pages_string = parsedData2.select_one(\".pagination__09f24__VRjN4 > div:nth-of-type(2) span\").text\n",
    "                    print(\"total_review_pages_string= \" ,total_review_pages_string)\n",
    "                    total_review_pages = int(total_review_pages_string.split(\"of\")[1])\n",
    "\n",
    "                #extraing the final reviews:\n",
    "                parsed_reviews = parsedData2.select(\"main >div >div> section> div>ul>li\")\n",
    "                \n",
    "                for each_parsed_reviews in parsed_reviews:\n",
    "                    username = each_parsed_reviews.select_one(\"div >span > a \").text\n",
    "                    user_address = each_parsed_reviews.select(\"div > .css-qgunke\")[0].text\n",
    "                    rating = each_parsed_reviews.select(\"span >  .five-stars__09f24__mBKym\")[0][\"aria-label\"]\n",
    "                    review_date = each_parsed_reviews.select(\"div > .css-chan6m\")[0].text\n",
    "                    review_text = each_parsed_reviews.select(\"div > .css-qgunke\")[1].text\n",
    "\n",
    "                    temp_row_list.append(username)\n",
    "                    temp_row_list.append(user_address)\n",
    "                    temp_row_list.append(rating)\n",
    "                    temp_row_list.append(review_date)\n",
    "                    temp_row_list.append(review_text)\n",
    "                    main_data_list.append(temp_row_list)\n",
    "                \n",
    "                view_pages += 1\n",
    "                print(\"Reviw page done: \", view_pages)\n",
    "                \n",
    "                #delaying :\n",
    "                time.sleep(delay_seconds)\n",
    "            \n",
    "            ##\n",
    "            print(\"Restaurant done: \")\n",
    "            print(\"##############################################\")\n",
    "        \n",
    "        ##\n",
    "        print(\"Page done: \" ,page)\n",
    "        return main_data_list\n",
    "    "
   ]
  },
  {
   "cell_type": "code",
   "execution_count": 64,
   "id": "fd1b4dba",
   "metadata": {},
   "outputs": [
    {
     "name": "stdout",
     "output_type": "stream",
     "text": [
      "Restaurant Names =  []\n",
      "Page done:  0\n"
     ]
    }
   ],
   "source": [
    "main_data_list = start_scraping()"
   ]
  },
  {
   "cell_type": "code",
   "execution_count": 43,
   "id": "087e40a7",
   "metadata": {},
   "outputs": [
    {
     "data": {
      "text/plain": [
       "[]"
      ]
     },
     "execution_count": 43,
     "metadata": {},
     "output_type": "execute_result"
    }
   ],
   "source": [
    "main_data_list"
   ]
  },
  {
   "cell_type": "code",
   "execution_count": null,
   "id": "1662bdcf",
   "metadata": {},
   "outputs": [],
   "source": []
  }
 ],
 "metadata": {
  "kernelspec": {
   "display_name": "Python 3 (ipykernel)",
   "language": "python",
   "name": "python3"
  },
  "language_info": {
   "codemirror_mode": {
    "name": "ipython",
    "version": 3
   },
   "file_extension": ".py",
   "mimetype": "text/x-python",
   "name": "python",
   "nbconvert_exporter": "python",
   "pygments_lexer": "ipython3",
   "version": "3.11.5"
  }
 },
 "nbformat": 4,
 "nbformat_minor": 5
}
