{
 "cells": [
  {
   "cell_type": "code",
   "execution_count": 4,
   "id": "74bb461a",
   "metadata": {},
   "outputs": [],
   "source": [
    "import threading\n",
    "import queue\n",
    "import requests"
   ]
  },
  {
   "cell_type": "code",
   "execution_count": 6,
   "id": "56443ed8",
   "metadata": {},
   "outputs": [],
   "source": [
    "queue = queue.Queue()\n",
    "valid_proxies = []"
   ]
  },
  {
   "cell_type": "code",
   "execution_count": 8,
   "id": "5d455660",
   "metadata": {},
   "outputs": [],
   "source": [
    "with open(\"proxies/initial_proxies.txt\", \"r\") as file:\n",
    "    proxies = file.read().split('\\n')\n",
    "    for each_proxy in proxies:\n",
    "        queue.put(each_proxy)\n",
    "        "
   ]
  },
  {
   "cell_type": "code",
   "execution_count": 10,
   "id": "8930bdba",
   "metadata": {},
   "outputs": [
    {
     "data": {
      "text/plain": [
       "<queue.Queue at 0x152cc337ed0>"
      ]
     },
     "execution_count": 10,
     "metadata": {},
     "output_type": "execute_result"
    }
   ],
   "source": [
    "queue"
   ]
  },
  {
   "cell_type": "code",
   "execution_count": null,
   "id": "ed0d8234",
   "metadata": {},
   "outputs": [],
   "source": [
    "def check_proxies():\n",
    "    while not queue.empty():\n",
    "        proxy = queue.get()\n",
    "        try:\n",
    "            response = requests(\"https://www.whatismyip.com/proxy-check/\",\n",
    "                               proxies = {\"http\": proxy,\n",
    "                                          \"https\": proxy\n",
    "                               })\n",
    "        except:\n",
    "            continue\n",
    "        "
   ]
  }
 ],
 "metadata": {
  "kernelspec": {
   "display_name": "Python 3 (ipykernel)",
   "language": "python",
   "name": "python3"
  },
  "language_info": {
   "codemirror_mode": {
    "name": "ipython",
    "version": 3
   },
   "file_extension": ".py",
   "mimetype": "text/x-python",
   "name": "python",
   "nbconvert_exporter": "python",
   "pygments_lexer": "ipython3",
   "version": "3.11.5"
  }
 },
 "nbformat": 4,
 "nbformat_minor": 5
}
